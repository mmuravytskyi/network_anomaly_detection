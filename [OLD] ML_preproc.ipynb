{
 "cells": [
  {
   "cell_type": "code",
   "execution_count": 1,
   "metadata": {
    "collapsed": true,
    "pycharm": {
     "is_executing": false
    }
   },
   "outputs": [],
   "source": [
    "import pandas as pd\n",
    "import numpy as np\n",
    "\n",
    "path = '/Users/purchasedinukraine/Downloads/data_preproc.csv'\n",
    "\n",
    "df = pd.read_csv(path)"
   ]
  },
  {
   "cell_type": "code",
   "execution_count": 12,
   "outputs": [
    {
     "data": {
      "text/plain": "['Source.IP',\n 'Source.Port',\n 'Destination.IP',\n 'Destination.Port',\n 'Protocol',\n 'Flow.Duration',\n 'Total.Fwd.Packets',\n 'Total.Backward.Packets',\n 'Total.Length.of.Fwd.Packets',\n 'Total.Length.of.Bwd.Packets',\n 'Fwd.Packet.Length.Max',\n 'Fwd.Packet.Length.Min',\n 'Fwd.Packet.Length.Mean',\n 'Fwd.Packet.Length.Std',\n 'Bwd.Packet.Length.Max',\n 'Bwd.Packet.Length.Min',\n 'Bwd.Packet.Length.Mean',\n 'Bwd.Packet.Length.Std',\n 'Flow.Bytes.s',\n 'Flow.Packets.s',\n 'Flow.IAT.Mean',\n 'Flow.IAT.Std',\n 'Flow.IAT.Max',\n 'Flow.IAT.Min',\n 'Fwd.IAT.Total',\n 'Fwd.IAT.Mean',\n 'Fwd.IAT.Std',\n 'Fwd.IAT.Max',\n 'Fwd.IAT.Min',\n 'Bwd.IAT.Total',\n 'Bwd.IAT.Mean',\n 'Bwd.IAT.Std',\n 'Bwd.IAT.Max',\n 'Bwd.IAT.Min',\n 'Fwd.PSH.Flags',\n 'Fwd.Header.Length',\n 'Bwd.Header.Length',\n 'Fwd.Packets.s',\n 'Bwd.Packets.s',\n 'Min.Packet.Length',\n 'Max.Packet.Length',\n 'Packet.Length.Mean',\n 'Packet.Length.Std',\n 'Packet.Length.Variance',\n 'FIN.Flag.Count',\n 'SYN.Flag.Count',\n 'RST.Flag.Count',\n 'PSH.Flag.Count',\n 'ACK.Flag.Count',\n 'URG.Flag.Count',\n 'ECE.Flag.Count',\n 'Down.Up.Ratio',\n 'Average.Packet.Size',\n 'Avg.Fwd.Segment.Size',\n 'Avg.Bwd.Segment.Size',\n 'Fwd.Header.Length.1',\n 'Subflow.Fwd.Packets',\n 'Subflow.Fwd.Bytes',\n 'Subflow.Bwd.Packets',\n 'Subflow.Bwd.Bytes',\n 'Init_Win_bytes_forward',\n 'Init_Win_bytes_backward',\n 'act_data_pkt_fwd',\n 'min_seg_size_forward',\n 'Active.Mean',\n 'Active.Std',\n 'Active.Max',\n 'Active.Min',\n 'Idle.Mean',\n 'Idle.Std',\n 'Idle.Max',\n 'Idle.Min',\n 'L7Protocol',\n 'ProtocolName']"
     },
     "metadata": {},
     "output_type": "execute_result",
     "execution_count": 12
    }
   ],
   "source": [
    "single_unique_cols = [col for col in df.columns if df[col].nunique() == 1]\n",
    "df.drop(columns=['Flow.ID', 'Timestamp'] + single_unique_cols, inplace=True)\n",
    "list(df.columns)"
   ],
   "metadata": {
    "collapsed": false,
    "pycharm": {
     "name": "#%%\n",
     "is_executing": false
    }
   }
  },
  {
   "cell_type": "code",
   "execution_count": 8,
   "outputs": [
    {
     "name": "stdout",
     "text": [
      "done\n"
     ],
     "output_type": "stream"
    }
   ],
   "source": [
    "freq_encoding = (df.groupby('Source.IP').size()) / len(df)\n",
    "df['Source.IP.FreqEnc'] = df['Source.IP'].apply(lambda x: freq_encoding[x])\n",
    "df.drop(columns=['Source.IP'], inplace=True)\n",
    "print('done')"
   ],
   "metadata": {
    "collapsed": false,
    "pycharm": {
     "name": "#%%\n",
     "is_executing": false
    }
   }
  },
  {
   "cell_type": "code",
   "execution_count": 14,
   "outputs": [],
   "source": [
    "_tmp = pd.get_dummies(df['Protocol']).rename(columns={0:\"Protocol:Unknown\", 6:\"Protocol.TCP\", 17:\"Protocol.UDP\"})\n",
    "df = pd.concat([df, _tmp], axis=1)\n"
   ],
   "metadata": {
    "collapsed": false,
    "pycharm": {
     "name": "#%%\n",
     "is_executing": false
    }
   }
  },
  {
   "cell_type": "code",
   "execution_count": 15,
   "outputs": [],
   "source": [
    "df.drop(columns=[\"Protocol:Unknown\", \"Protocol.TCP\", \"Protocol.UDP\"], inplace=True)\n",
    "df = pd.concat([df, _tmp], axis=1)"
   ],
   "metadata": {
    "collapsed": false,
    "pycharm": {
     "name": "#%%\n",
     "is_executing": false
    }
   }
  },
  {
   "cell_type": "code",
   "execution_count": 2,
   "outputs": [
    {
     "name": "stdout",
     "text": [
      "       Source.IP  Source.Port Destination.IP  Destination.Port  Protocol  \\\n",
      "0    172.19.1.46        52422     10.200.7.7              3128         6   \n",
      "1     10.200.7.7         3128    172.19.1.46             52422         6   \n",
      "2   50.31.185.39           80   10.200.7.217             38848         6   \n",
      "3   50.31.185.39           80   10.200.7.217             38848         6   \n",
      "4  192.168.72.43        55961     10.200.7.7              3128         6   \n",
      "5     10.200.7.6         3128    172.19.1.56             50004         6   \n",
      "6  192.168.72.43        55963     10.200.7.7              3128         6   \n",
      "7  192.168.10.47        51848     10.200.7.6              3128         6   \n",
      "8  68.67.178.197          443   10.200.7.217             57300         6   \n",
      "9  192.168.72.43        55977     10.200.7.7              3128         6   \n",
      "\n",
      "   Flow.Duration  Total.Fwd.Packets  Total.Backward.Packets  \\\n",
      "0          45523                 22                      55   \n",
      "1              1                  2                       0   \n",
      "2              1                  3                       0   \n",
      "3            217                  1                       3   \n",
      "4          78068                  5                       0   \n",
      "5         105069                136                       0   \n",
      "6         104443                  5                       0   \n",
      "7          11002                  3                      12   \n",
      "8         108503                 10                       6   \n",
      "9         118415                  7                       0   \n",
      "\n",
      "   Total.Length.of.Fwd.Packets  Total.Length.of.Bwd.Packets  ...  Active.Min  \\\n",
      "0                          132                     110414.0  ...         0.0   \n",
      "1                           12                          0.0  ...         0.0   \n",
      "2                          674                          0.0  ...         0.0   \n",
      "3                            0                          0.0  ...         0.0   \n",
      "4                         1076                          0.0  ...         0.0   \n",
      "5                       313554                          0.0  ...         0.0   \n",
      "6                         1076                          0.0  ...         0.0   \n",
      "7                          232                       3664.0  ...         0.0   \n",
      "8                         6904                       1302.0  ...         0.0   \n",
      "9                         2210                          0.0  ...         0.0   \n",
      "\n",
      "   Idle.Mean  Idle.Std  Idle.Max  Idle.Min  L7Protocol  ProtocolName.FreqEnc  \\\n",
      "0        0.0       0.0       0.0       0.0         131              0.174213   \n",
      "1        0.0       0.0       0.0       0.0         131              0.174213   \n",
      "2        0.0       0.0       0.0       0.0           7              0.191132   \n",
      "3        0.0       0.0       0.0       0.0           7              0.191132   \n",
      "4        0.0       0.0       0.0       0.0         131              0.174213   \n",
      "5        0.0       0.0       0.0       0.0         131              0.174213   \n",
      "6        0.0       0.0       0.0       0.0         131              0.174213   \n",
      "7        0.0       0.0       0.0       0.0         130              0.088761   \n",
      "8        0.0       0.0       0.0       0.0          91              0.113181   \n",
      "9        0.0       0.0       0.0       0.0         126              0.268110   \n",
      "\n",
      "   Protocol:Unknown  Protocol.TCP  Protocol.UDP  \n",
      "0                 0             1             0  \n",
      "1                 0             1             0  \n",
      "2                 0             1             0  \n",
      "3                 0             1             0  \n",
      "4                 0             1             0  \n",
      "5                 0             1             0  \n",
      "6                 0             1             0  \n",
      "7                 0             1             0  \n",
      "8                 0             1             0  \n",
      "9                 0             1             0  \n",
      "\n",
      "[10 rows x 77 columns]\n"
     ],
     "output_type": "stream"
    }
   ],
   "source": [
    "print(df.head(10))\n"
   ],
   "metadata": {
    "collapsed": false,
    "pycharm": {
     "name": "#%%\n",
     "is_executing": false
    }
   }
  },
  {
   "cell_type": "code",
   "execution_count": 16,
   "outputs": [
    {
     "data": {
      "text/plain": "      Source.IP  Source.Port Destination.IP  Destination.Port  Flow.Duration  \\\n0   172.19.1.46        52422     10.200.7.7              3128          45523   \n1    10.200.7.7         3128    172.19.1.46             52422              1   \n2  50.31.185.39           80   10.200.7.217             38848              1   \n\n   Total.Fwd.Packets  Total.Backward.Packets  Total.Length.of.Fwd.Packets  \\\n0                 22                      55                          132   \n1                  2                       0                           12   \n2                  3                       0                          674   \n\n   Total.Length.of.Bwd.Packets  Fwd.Packet.Length.Max  ...  Active.Std  \\\n0                     110414.0                      6  ...         0.0   \n1                          0.0                      6  ...         0.0   \n2                          0.0                    337  ...         0.0   \n\n   Active.Max  Idle.Mean  Idle.Std  Idle.Max  L7Protocol  \\\n0         0.0        0.0       0.0       0.0         131   \n1         0.0        0.0       0.0       0.0         131   \n2         0.0        0.0       0.0       0.0           7   \n\n   ProtocolName.FreqEnc  Protocol:Unknown  Protocol.TCP  Protocol.UDP  \n0              0.174213                 0             1             0  \n1              0.174213                 0             1             0  \n2              0.191132                 0             1             0  \n\n[3 rows x 68 columns]",
      "text/html": "<div>\n<style scoped>\n    .dataframe tbody tr th:only-of-type {\n        vertical-align: middle;\n    }\n\n    .dataframe tbody tr th {\n        vertical-align: top;\n    }\n\n    .dataframe thead th {\n        text-align: right;\n    }\n</style>\n<table border=\"1\" class=\"dataframe\">\n  <thead>\n    <tr style=\"text-align: right;\">\n      <th></th>\n      <th>Source.IP</th>\n      <th>Source.Port</th>\n      <th>Destination.IP</th>\n      <th>Destination.Port</th>\n      <th>Flow.Duration</th>\n      <th>Total.Fwd.Packets</th>\n      <th>Total.Backward.Packets</th>\n      <th>Total.Length.of.Fwd.Packets</th>\n      <th>Total.Length.of.Bwd.Packets</th>\n      <th>Fwd.Packet.Length.Max</th>\n      <th>...</th>\n      <th>Active.Std</th>\n      <th>Active.Max</th>\n      <th>Idle.Mean</th>\n      <th>Idle.Std</th>\n      <th>Idle.Max</th>\n      <th>L7Protocol</th>\n      <th>ProtocolName.FreqEnc</th>\n      <th>Protocol:Unknown</th>\n      <th>Protocol.TCP</th>\n      <th>Protocol.UDP</th>\n    </tr>\n  </thead>\n  <tbody>\n    <tr>\n      <th>0</th>\n      <td>172.19.1.46</td>\n      <td>52422</td>\n      <td>10.200.7.7</td>\n      <td>3128</td>\n      <td>45523</td>\n      <td>22</td>\n      <td>55</td>\n      <td>132</td>\n      <td>110414.0</td>\n      <td>6</td>\n      <td>...</td>\n      <td>0.0</td>\n      <td>0.0</td>\n      <td>0.0</td>\n      <td>0.0</td>\n      <td>0.0</td>\n      <td>131</td>\n      <td>0.174213</td>\n      <td>0</td>\n      <td>1</td>\n      <td>0</td>\n    </tr>\n    <tr>\n      <th>1</th>\n      <td>10.200.7.7</td>\n      <td>3128</td>\n      <td>172.19.1.46</td>\n      <td>52422</td>\n      <td>1</td>\n      <td>2</td>\n      <td>0</td>\n      <td>12</td>\n      <td>0.0</td>\n      <td>6</td>\n      <td>...</td>\n      <td>0.0</td>\n      <td>0.0</td>\n      <td>0.0</td>\n      <td>0.0</td>\n      <td>0.0</td>\n      <td>131</td>\n      <td>0.174213</td>\n      <td>0</td>\n      <td>1</td>\n      <td>0</td>\n    </tr>\n    <tr>\n      <th>2</th>\n      <td>50.31.185.39</td>\n      <td>80</td>\n      <td>10.200.7.217</td>\n      <td>38848</td>\n      <td>1</td>\n      <td>3</td>\n      <td>0</td>\n      <td>674</td>\n      <td>0.0</td>\n      <td>337</td>\n      <td>...</td>\n      <td>0.0</td>\n      <td>0.0</td>\n      <td>0.0</td>\n      <td>0.0</td>\n      <td>0.0</td>\n      <td>7</td>\n      <td>0.191132</td>\n      <td>0</td>\n      <td>1</td>\n      <td>0</td>\n    </tr>\n  </tbody>\n</table>\n<p>3 rows × 68 columns</p>\n</div>"
     },
     "metadata": {},
     "output_type": "execute_result",
     "execution_count": 16
    }
   ],
   "source": [
    "df.drop(columns=['Protocol', 'Active.Min', 'Idle.Min', 'Min.Packet.Length', 'Bwd.IAT.Min', 'Fwd.IAT.Min',\n",
    "                 'Flow.IAT.Min', 'Bwd.Packet.Length.Min', 'Fwd.Packet.Length.Min'], inplace=True)\n",
    "df.head(3)"
   ],
   "metadata": {
    "collapsed": false,
    "pycharm": {
     "name": "#%%\n",
     "is_executing": false
    }
   }
  },
  {
   "cell_type": "code",
   "execution_count": 12,
   "outputs": [],
   "source": [
    "df.drop(columns=[\"L7Protocol\"], inplace=True)"
   ],
   "metadata": {
    "collapsed": false,
    "pycharm": {
     "name": "#%%\n",
     "is_executing": false
    }
   }
  },
  {
   "cell_type": "code",
   "execution_count": 13,
   "outputs": [
    {
     "name": "stdout",
     "text": [
      "done!\n"
     ],
     "output_type": "stream"
    }
   ],
   "source": [
    "df.to_csv(path)\n",
    "print('done!')"
   ],
   "metadata": {
    "collapsed": false,
    "pycharm": {
     "name": "#%%\n",
     "is_executing": false
    }
   }
  },
  {
   "cell_type": "code",
   "execution_count": 2,
   "outputs": [],
   "source": [
    "def normalizz(col):\n",
    "    df[col] = (df[col]-df[col].min())/(df[col].max()-df[col].min())"
   ],
   "metadata": {
    "collapsed": false,
    "pycharm": {
     "name": "#%%\n",
     "is_executing": false
    }
   }
  },
  {
   "cell_type": "code",
   "execution_count": 10,
   "outputs": [
    {
     "name": "stdout",
     "text": [
      "Done: Unnamed: 0\n",
      "Done: Flow.Duration\n",
      "Done: Total.Fwd.Packets\n",
      "Done: Total.Backward.Packets\n",
      "Done: Total.Length.of.Fwd.Packets\n",
      "Done: Total.Length.of.Bwd.Packets\n",
      "Done: Fwd.Packet.Length.Max\n",
      "Done: Fwd.Packet.Length.Mean\n",
      "Done: Fwd.Packet.Length.Std\n",
      "Done: Bwd.Packet.Length.Max\n",
      "Done: Bwd.Packet.Length.Mean\n",
      "Done: Bwd.Packet.Length.Std\n",
      "Done: Flow.Bytes.s\n",
      "Done: Flow.Packets.s\n",
      "Done: Flow.IAT.Mean\n",
      "Done: Flow.IAT.Std\n",
      "Done: Flow.IAT.Max\n",
      "Done: Fwd.IAT.Total\n",
      "Done: Fwd.IAT.Mean\n",
      "Done: Fwd.IAT.Std\n",
      "Done: Fwd.IAT.Max\n",
      "Done: Bwd.IAT.Total\n",
      "Done: Bwd.IAT.Mean\n",
      "Done: Bwd.IAT.Std\n",
      "Done: Bwd.IAT.Max\n",
      "Done: Fwd.Header.Length\n",
      "Done: Bwd.Header.Length\n",
      "Done: Fwd.Packets.s\n",
      "Done: Bwd.Packets.s\n",
      "Done: Max.Packet.Length\n",
      "Done: Packet.Length.Mean\n",
      "Done: Packet.Length.Std\n",
      "Done: Packet.Length.Variance\n",
      "Done: FIN.Flag.Count\n",
      "Done: SYN.Flag.Count\n",
      "Done: RST.Flag.Count\n",
      "Done: PSH.Flag.Count\n",
      "Done: ACK.Flag.Count\n",
      "Done: URG.Flag.Count\n",
      "Done: ECE.Flag.Count\n",
      "Done: Down.Up.Ratio\n",
      "Done: Average.Packet.Size\n",
      "Done: Avg.Fwd.Segment.Size\n",
      "Done: Avg.Bwd.Segment.Size\n",
      "Done: Fwd.Header.Length.1\n",
      "Done: Subflow.Fwd.Packets\n",
      "Done: Subflow.Fwd.Bytes\n",
      "Done: Subflow.Bwd.Packets\n",
      "Done: Subflow.Bwd.Bytes\n",
      "Done: Init_Win_bytes_forward\n",
      "Done: Init_Win_bytes_backward\n",
      "Done: act_data_pkt_fwd\n",
      "Done: min_seg_size_forward\n",
      "Done: Active.Mean\n",
      "Done: Active.Std\n",
      "Done: Active.Max\n",
      "Done: Idle.Mean\n",
      "Done: Idle.Std\n",
      "Done: Idle.Max\n"
     ],
     "output_type": "stream"
    }
   ],
   "source": [
    "forbid = ['Source.IP', 'Destination.IP', 'Source.Port', 'Destination.Port', 'Protocol:Unknown',\n",
    "       'Protocol.TCP', 'Protocol.UDP',  'L7Protocol', 'ProtocolName.FreqEnc', 'Fwd.PSH.Flags']\n",
    "for a in df.columns:\n",
    "    if a not in forbid:\n",
    "        df[a] = (df[a]-df[a].min())/(df[a].max()-df[a].min())\n",
    "        print('Done: '+ a)"
   ],
   "metadata": {
    "collapsed": false,
    "pycharm": {
     "name": "#%%\n",
     "is_executing": false
    }
   }
  }
 ],
 "metadata": {
  "kernelspec": {
   "display_name": "Python 3",
   "language": "python",
   "name": "python3"
  },
  "language_info": {
   "codemirror_mode": {
    "name": "ipython",
    "version": 2
   },
   "file_extension": ".py",
   "mimetype": "text/x-python",
   "name": "python",
   "nbconvert_exporter": "python",
   "pygments_lexer": "ipython2",
   "version": "2.7.6"
  },
  "pycharm": {
   "stem_cell": {
    "cell_type": "raw",
    "source": [],
    "metadata": {
     "collapsed": false
    }
   }
  }
 },
 "nbformat": 4,
 "nbformat_minor": 0
}