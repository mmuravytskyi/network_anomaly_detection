{
 "cells": [
  {
   "cell_type": "code",
   "execution_count": 1,
   "metadata": {},
   "outputs": [],
   "source": [
    "import pandas as pd\n",
    "import numpy as np\n",
    "import time\n",
    "import matplotlib.pyplot as plt\n",
    "\n",
    "from sklearn.neighbors import NearestNeighbors"
   ]
  },
  {
   "cell_type": "code",
   "execution_count": 2,
   "metadata": {},
   "outputs": [],
   "source": [
    "# Taking a set of 1 million samples\n",
    "# Drawing 250 000 samples - this is new reference set\n",
    "# 3.7 - 1 = 2.7 millions of test data"
   ]
  },
  {
   "cell_type": "code",
   "execution_count": 7,
   "metadata": {},
   "outputs": [],
   "source": [
    "# Loading Data Set\n",
    "dataset = pd.read_csv('filtered_dataset_.csv')\n",
    "df = dataset.copy()"
   ]
  },
  {
   "cell_type": "code",
   "execution_count": 8,
   "metadata": {},
   "outputs": [],
   "source": [
    "# Preprocess Data Set\n",
    "df.drop(columns=['Unnamed: 0', 'Source.IP', 'Source.Port', 'Destination.IP', 'Destination.Port'], inplace=True)\n",
    "df = df.astype(df.values).astype('float32')"
   ]
  },
  {
   "cell_type": "code",
   "execution_count": 11,
   "metadata": {},
   "outputs": [],
   "source": [
    "delimiter_row = 1_000_000\n",
    "df_ref_general = df.loc[0:delimiter_row]\n",
    "df_testing = df.loc[delimiter_row:delimiter_row+50_000]"
   ]
  },
  {
   "cell_type": "code",
   "execution_count": 12,
   "metadata": {},
   "outputs": [
    {
     "data": {
      "text/plain": [
       "250000"
      ]
     },
     "execution_count": 12,
     "metadata": {},
     "output_type": "execute_result"
    }
   ],
   "source": [
    "df_ref = df_ref_general.sample(frac=0.25)\n",
    "df_ref.shape[0]"
   ]
  },
  {
   "cell_type": "markdown",
   "metadata": {},
   "source": [
    "#### df_ref - reference data. Subset of 250_000 samples drawn from original set of 1_000_000 samples\n",
    "#### df_testing - test data"
   ]
  },
  {
   "cell_type": "code",
   "execution_count": 13,
   "metadata": {},
   "outputs": [],
   "source": [
    "K = 5\n",
    "neighbors = NearestNeighbors(n_neighbors=K)\n",
    "neighbors.fit(df_ref.values)\n",
    "distances, _ = neighbors.kneighbors(df_ref.values)"
   ]
  },
  {
   "cell_type": "code",
   "execution_count": 93,
   "metadata": {},
   "outputs": [],
   "source": [
    "distances_nei = distances.copy()"
   ]
  },
  {
   "cell_type": "code",
   "execution_count": 97,
   "metadata": {},
   "outputs": [
    {
     "data": {
      "text/plain": [
       "[<matplotlib.lines.Line2D at 0x187b754ae20>]"
      ]
     },
     "execution_count": 97,
     "metadata": {},
     "output_type": "execute_result"
    },
    {
     "data": {
      "image/png": "[encoded data removed]",
      "text/plain": [
       "<Figure size 432x288 with 1 Axes>"
      ]
     },
     "metadata": {
      "needs_background": "light"
     },
     "output_type": "display_data"
    }
   ],
   "source": [
    "# Zero is included - distance to itself\n",
    "plt.plot(distances_nei.mean(axis=1))\n",
    "plt.plot([0,250_000], [np.percentile(distances_nei, 99.5), np.percentile(distances_nei, 99.5)])"
   ]
  },
  {
   "cell_type": "code",
   "execution_count": 99,
   "metadata": {},
   "outputs": [
    {
     "data": {
      "image/png": "[encoded data removed]",
      "text/plain": [
       "<Figure size 432x288 with 1 Axes>"
      ]
     },
     "metadata": {
      "needs_background": "light"
     },
     "output_type": "display_data"
    }
   ],
   "source": [
    "distances_mean_non_zeros = distances_nei.mean(axis=1)[distances_nei.mean(axis=1) != 0]\n",
    "distances_mean_non_zeros\n",
    "plt.plot(np.sort(distances_mean_non_zeros))\n",
    "plt.plot([0,250_000], [np.percentile(distances_nei, 99.5), np.percentile(distances_nei, 99.5)])\n",
    "# Checking distribution of samples with non-zero values\n",
    "# There are many samples with near-zero values\n",
    "\n",
    "anomalous_distance_threshold = np.percentile(distances_nei, 99.5)"
   ]
  },
  {
   "cell_type": "code",
   "execution_count": 109,
   "metadata": {},
   "outputs": [
    {
     "name": "stdout",
     "output_type": "stream",
     "text": [
      "Avg processing time of single sample 0.0035141996115613575\n"
     ]
    }
   ],
   "source": [
    "anomalous_df = list()\n",
    "\n",
    "start = time.time()\n",
    "\n",
    "for index, row in df_testing.iterrows():\n",
    "    distance, _ = neighbors.kneighbors([np.array(row.tolist())])\n",
    "    if distance.mean() > anomalous_distance_threshold:\n",
    "        anomalous_df.append(index)\n",
    "\n",
    "stop = time.time() - start\n",
    "avg_time = stop/df_testing.shape[0]\n",
    "print(f\"Avg processing time of single sample {avg_time}\")"
   ]
  },
  {
   "cell_type": "code",
   "execution_count": 115,
   "metadata": {},
   "outputs": [],
   "source": [
    "import csv\n",
    "  \n",
    "with open('[KNN]anonmalous_indexes.csv', 'w', newline='') as f:\n",
    "    write = csv.writer(f) \n",
    "    write.writerow(['index'])\n",
    "    write.writerows([element] for element in anomalous_df)"
   ]
  },
  {
   "cell_type": "code",
   "execution_count": 113,
   "metadata": {},
   "outputs": [
    {
     "name": "stdout",
     "output_type": "stream",
     "text": [
      "Discovered 243 samples to be suspected as anomalous\n"
     ]
    }
   ],
   "source": [
    "print(f\"Discovered {len(anomalous_df)} samples to be suspected as anomalous\")"
   ]
  },
  {
   "cell_type": "code",
   "execution_count": null,
   "metadata": {},
   "outputs": [],
   "source": []
  }
 ],
 "metadata": {
  "kernelspec": {
   "display_name": "Python 3",
   "language": "python",
   "name": "python3"
  },
  "language_info": {
   "codemirror_mode": {
    "name": "ipython",
    "version": 3
   },
   "file_extension": ".py",
   "mimetype": "text/x-python",
   "name": "python",
   "nbconvert_exporter": "python",
   "pygments_lexer": "ipython3",
   "version": "3.9.0"
  }
 },
 "nbformat": 4,
 "nbformat_minor": 4
}
